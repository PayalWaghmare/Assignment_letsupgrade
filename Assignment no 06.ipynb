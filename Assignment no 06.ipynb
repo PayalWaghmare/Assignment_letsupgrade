{
 "cells": [
  {
   "cell_type": "markdown",
   "metadata": {},
   "source": [
    "# Assignment n 06"
   ]
  },
  {
   "cell_type": "markdown",
   "metadata": {},
   "source": [
    "# Question no 02"
   ]
  },
  {
   "cell_type": "code",
   "execution_count": 1,
   "metadata": {},
   "outputs": [
    {
     "name": "stdout",
     "output_type": "stream",
     "text": [
      "Please Enter the Radius of a Cone: 20\n",
      "Please Enter the Height of a Cone: 2\n",
      "\n",
      " Length of a Side (Slant)of a Cone = 20.10\n",
      " The Surface Area of a Cone = 2519.54 \n",
      " The Volume of a Cone = 837.76\n",
      " The Lateral Surface Area of a Cone = 1262.90 \n"
     ]
    }
   ],
   "source": [
    "\n",
    "import math\n",
    "\n",
    "radius = float(input('Please Enter the Radius of a Cone: '))\n",
    "height = float(input('Please Enter the Height of a Cone: '))\n",
    "\n",
    "# Calculate Length of a Slide (Slant)\n",
    "l = math.sqrt(radius * radius + height * height)\n",
    "\n",
    "# Calculate the Surface Area\n",
    "SA = math.pi * radius * (radius + l)\n",
    "\n",
    "# Calculate the Volume\n",
    "Volume = (1.0/3) * math.pi * radius * radius * height\n",
    "\n",
    "# Calculate the Lateral Surface Area\n",
    "LSA = math.pi * radius  * l\n",
    "\n",
    "print(\"\\n Length of a Side (Slant)of a Cone = %.2f\" %l)\n",
    "print(\" The Surface Area of a Cone = %.2f \" %SA)\n",
    "print(\" The Volume of a Cone = %.2f\" %Volume);\n",
    "print(\" The Lateral Surface Area of a Cone = %.2f \" %LSA)"
   ]
  },
  {
   "cell_type": "markdown",
   "metadata": {},
   "source": [
    "# Question no01"
   ]
  },
  {
   "cell_type": "code",
   "execution_count": 1,
   "metadata": {},
   "outputs": [],
   "source": [
    "class Bank_Account: \n",
    "    def __init__(self): \n",
    "        self.balance=0\n",
    "        print(\"Hello!!! Welcome to the Deposit & Withdrawal Machine\") \n",
    "  \n",
    "    def deposit(self): \n",
    "        amount=float(input(\"Enter amount to be Deposited: \")) \n",
    "        self.balance += amount \n",
    "        print(\"\\n Amount Deposited:\",amount) \n",
    "  \n",
    "    def withdraw(self): \n",
    "        amount = float(input(\"Enter amount to be Withdrawn: \")) \n",
    "        if self.balance>=amount: \n",
    "            self.balance-=amount \n",
    "            print(\"\\n You Withdrew:\", amount) \n",
    "        else: \n",
    "            print(\"\\n Insufficient balance  \") \n",
    "  \n",
    "    def display(self): \n",
    "        print(\"\\n Net Available Balance=\",self.balance) \n",
    "  "
   ]
  },
  {
   "cell_type": "code",
   "execution_count": null,
   "metadata": {},
   "outputs": [],
   "source": []
  },
  {
   "cell_type": "code",
   "execution_count": null,
   "metadata": {},
   "outputs": [],
   "source": []
  },
  {
   "cell_type": "code",
   "execution_count": null,
   "metadata": {},
   "outputs": [],
   "source": []
  }
 ],
 "metadata": {
  "kernelspec": {
   "display_name": "Python 3",
   "language": "python",
   "name": "python3"
  },
  "language_info": {
   "codemirror_mode": {
    "name": "ipython",
    "version": 3
   },
   "file_extension": ".py",
   "mimetype": "text/x-python",
   "name": "python",
   "nbconvert_exporter": "python",
   "pygments_lexer": "ipython3",
   "version": "3.8.3"
  }
 },
 "nbformat": 4,
 "nbformat_minor": 4
}
